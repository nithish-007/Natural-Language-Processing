{
  "nbformat": 4,
  "nbformat_minor": 0,
  "metadata": {
    "colab": {
      "provenance": []
    },
    "kernelspec": {
      "name": "python3",
      "display_name": "Python 3"
    },
    "language_info": {
      "name": "python"
    }
  },
  "cells": [
    {
      "cell_type": "code",
      "execution_count": 1,
      "metadata": {
        "colab": {
          "base_uri": "https://localhost:8080/"
        },
        "id": "VPU_3jt0JZBv",
        "outputId": "ddcb1846-4570-4727-f4b6-eaa77d484d28"
      },
      "outputs": [
        {
          "output_type": "stream",
          "name": "stdout",
          "text": [
            "Using device = cpu\n"
          ]
        }
      ],
      "source": [
        "import torch\n",
        "\n",
        "device = torch.device(\"cuda\" if torch.cuda.is_available() else \"cpu\")\n",
        "torch.set_default_device(device)\n",
        "\n",
        "print(f\"Using device = {torch.get_default_device()}\")"
      ]
    },
    {
      "cell_type": "code",
      "source": [
        "# ----------------------\n",
        "# Downloading data\n",
        "# ----------------------\n",
        "\n",
        "import os\n",
        "from urllib import request\n",
        "import zipfile\n",
        "\n",
        "# URL and paths\n",
        "url = \"https://download.pytorch.org/tutorial/data.zip\"\n",
        "zip_path = \"data.zip\"\n",
        "extract_path = \"./\"\n",
        "\n",
        "# Download the file\n",
        "request.urlretrieve(url, zip_path)\n",
        "\n",
        "# Create folder and extract\n",
        "os.makedirs(extract_path, exist_ok=True)\n",
        "with zipfile.ZipFile(zip_path, 'r') as zip_ref:\n",
        "    zip_ref.extractall(extract_path)\n",
        "\n",
        "print(f\"Data extracted to: {extract_path}\")\n"
      ],
      "metadata": {
        "colab": {
          "base_uri": "https://localhost:8080/"
        },
        "id": "sAvs2fbzNiTq",
        "outputId": "c462ae51-6228-4f54-9f1f-4d52b8d0037c"
      },
      "execution_count": 3,
      "outputs": [
        {
          "output_type": "stream",
          "name": "stdout",
          "text": [
            "Data extracted to: ./\n"
          ]
        }
      ]
    },
    {
      "cell_type": "code",
      "source": [
        "# ------------------------\n",
        "# Preparing Data\n",
        "# ------------------------\n",
        "\n",
        "# converting unicode into ASCII\n",
        "\n",
        "import string\n",
        "import unicodedata\n",
        "\n",
        "allowed_characters = string.ascii_letters + \" .,;'\" + \"_\"\n",
        "n_letters = len(allowed_characters)\n",
        "\n",
        "def unicodeToAscii(s):\n",
        "  return ''.join(\n",
        "      c for c in unicodedata.normalize(\"NFD\", s)\n",
        "      if unicodedata.category(c) != \"Mn\"\n",
        "      and c in allowed_characters\n",
        "  )"
      ],
      "metadata": {
        "id": "T5MYG0XDMZ8a"
      },
      "execution_count": 1,
      "outputs": []
    },
    {
      "cell_type": "code",
      "source": [
        "print (f\"converting 'Ślusàrski' to {unicodeToAscii('Ślusàrski')}\")"
      ],
      "metadata": {
        "colab": {
          "base_uri": "https://localhost:8080/"
        },
        "id": "j-93Rf5UP8QM",
        "outputId": "9d0ba80f-e831-4c8b-cc42-13b6fb07e42b"
      },
      "execution_count": 2,
      "outputs": [
        {
          "output_type": "stream",
          "name": "stdout",
          "text": [
            "converting 'Ślusàrski' to Slusarski\n"
          ]
        }
      ]
    },
    {
      "cell_type": "code",
      "source": [
        "# -------------------------\n",
        "# Converting Names into Tensors\n",
        "# -------------------------\n",
        "\n"
      ],
      "metadata": {
        "id": "e5RLXDaBQBTd"
      },
      "execution_count": null,
      "outputs": []
    }
  ]
}