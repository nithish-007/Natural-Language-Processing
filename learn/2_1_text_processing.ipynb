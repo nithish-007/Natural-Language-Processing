{
 "cells": [
  {
   "cell_type": "code",
   "execution_count": 4,
   "metadata": {},
   "outputs": [
    {
     "name": "stdout",
     "output_type": "stream",
     "text": [
      "Sentence_tokenize: ['Dr. Smith want to Washington.', 'On Dec. 25, 2024, the event will occur.', \"He said, 'I`ll be there.'.\"]\n"
     ]
    }
   ],
   "source": [
    "import regex as re\n",
    "\n",
    "def sentence_tokenize(text):\n",
    "    # Regex to split sentences by periods followed by a space, handling abbreviations and dates\n",
    "    # abbrevations and accronyms where it is not treated as sentence boundary\n",
    "    abbreviations = r'\\b(?:Dr|Mr|Ms|Mrs|Sr|Jr|Prof|St|Rev|Dec|Nov|Jan|Feb|Mar|Apr|Aug|Sep|Oct|etc)\\.'\n",
    "\n",
    "    # regex to split on period not preceded by an abbreviation\n",
    "    sentences = re.split(r'(?<!' + abbreviations + r')(?<!\\b[A-Z][a-z]{0,3})\\.\\s+', text)\n",
    "    return [sentence.strip() + '.' for sentence in sentences if sentence]\n",
    "\n",
    "text = \"Dr. Smith want to Washington. On Dec. 25, 2024, the event will occur. He said, 'I`ll be there.'\"\n",
    "sentences = sentence_tokenize(text)\n",
    "print(\"Sentence_tokenize:\", sentences)"
   ]
  },
  {
   "cell_type": "markdown",
   "metadata": {},
   "source": [
    " ## Word Tokeninzation"
   ]
  },
  {
   "cell_type": "code",
   "execution_count": 5,
   "metadata": {},
   "outputs": [
    {
     "name": "stdout",
     "output_type": "stream",
     "text": [
      "Sentence input:Dr. Smith want to Washington.\n",
      "Word list: ['Dr', '.', 'Smith', 'want', 'to', 'Washington', '.']\n",
      "Sentence input:On Dec. 25, 2024, the event will occur.\n",
      "Word list: ['On', 'Dec', '.', '25', ',', '2024', ',', 'the', 'event', 'will', 'occur', '.']\n",
      "Sentence input:He said, 'I`ll be there.'.\n",
      "Word list: ['He', 'said', ',', 'I', 'll', 'be', 'there', '.', '.']\n"
     ]
    }
   ],
   "source": [
    "# from the above text that is split into sentences we will split it into tokens\n",
    "def word_tokenizer(text):\n",
    "    # regular expression to match words \n",
    "    # This pattern matches sequences of alphanumeric characters and apostroplhes, treating them as words\n",
    "    # words = re.findall(r\"\\b\\w+(?:'w+)?\\b\", text)\n",
    "    words = re.findall(r\"\\b\\w+(?:'\\w+)?\\b|[.,!?;]\", text)\n",
    "    return words\n",
    "\n",
    "for sentence in sentences:\n",
    "    print(\"Sentence input:%s\"%(sentence))\n",
    "    words = word_tokenizer(sentence)\n",
    "    print(\"Word list: \", end=\"\")\n",
    "    print(words)\n",
    "\n",
    "\n"
   ]
  },
  {
   "cell_type": "code",
   "execution_count": 7,
   "metadata": {},
   "outputs": [
    {
     "name": "stdout",
     "output_type": "stream",
     "text": [
      "Lowercase Text: this is mixed case text\n"
     ]
    }
   ],
   "source": [
    "### Lowercasing \n",
    "\n",
    "def lowercase(text):\n",
    "    return text.lower()\n",
    "\n",
    "text = \"This is MIXED CASE Text\"\n",
    "lowercased_text = lowercase(text)\n",
    "print(\"Lowercase Text:\", lowercased_text)\n",
    "\n",
    "\n"
   ]
  },
  {
   "cell_type": "markdown",
   "metadata": {},
   "source": [
    "### Stop word Removal"
   ]
  },
  {
   "cell_type": "code",
   "execution_count": 9,
   "metadata": {},
   "outputs": [
    {
     "name": "stdout",
     "output_type": "stream",
     "text": [
      "Text After stop word Removal: This example text. It includes various tasks\n"
     ]
    }
   ],
   "source": [
    "def remove_stop_words(text, stop_words):\n",
    "    words = text.split()\n",
    "    filtered_words = [word for word in words if word not in stop_words]\n",
    "    return \" \".join(filtered_words)\n",
    "# eg:\n",
    "stops_words = {\"is\", \"an\", \"it\", \"include\", \"the\"}\n",
    "text = \"This is an example text. It includes various tasks\"\n",
    "filtered_text = remove_stop_words(text, stops_words)\n",
    "print(\"Text After stop word Removal:\", filtered_text)\n",
    "\n",
    "               "
   ]
  },
  {
   "cell_type": "code",
   "execution_count": null,
   "metadata": {},
   "outputs": [],
   "source": []
  }
 ],
 "metadata": {
  "kernelspec": {
   "display_name": "torch",
   "language": "python",
   "name": "python3"
  },
  "language_info": {
   "codemirror_mode": {
    "name": "ipython",
    "version": 3
   },
   "file_extension": ".py",
   "mimetype": "text/x-python",
   "name": "python",
   "nbconvert_exporter": "python",
   "pygments_lexer": "ipython3",
   "version": "3.12.7"
  }
 },
 "nbformat": 4,
 "nbformat_minor": 2
}
